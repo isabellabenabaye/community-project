{
 "cells": [
  {
   "cell_type": "markdown",
   "metadata": {},
   "source": [
    "# Scraping Community (2009)'s IMDb Ratings"
   ]
  },
  {
   "cell_type": "markdown",
   "metadata": {},
   "source": [
    "## Import necessary libraries"
   ]
  },
  {
   "cell_type": "code",
   "execution_count": 10,
   "metadata": {},
   "outputs": [],
   "source": [
    "from requests import get\n",
    "from bs4 import BeautifulSoup\n",
    "import pandas as pd "
   ]
  },
  {
   "cell_type": "markdown",
   "metadata": {},
   "source": [
    "## Scrape data"
   ]
  },
  {
   "cell_type": "code",
   "execution_count": 11,
   "metadata": {},
   "outputs": [],
   "source": [
    "# Initializing the series' that the loop will \n",
    "community_episodes = []\n",
    "\n",
    "# For every season in the series\n",
    "for sn in range(1,7):\n",
    "    # Request the server the content of the web page by using get(), and store the server’s response in the variable response\n",
    "    response = get('https://www.imdb.com/title/tt1439629/episodes?season=' + str(sn))\n",
    "\n",
    "    # Parse the content of the request with BeautifulSoup\n",
    "    page_html = BeautifulSoup(response.text, 'html.parser')\n",
    "\n",
    "    # Select all the episode containers from the season page\n",
    "    episode_containers = page_html.find_all('div', class_ = 'info')\n",
    "\n",
    "    # For each episode in each season\n",
    "    for episodes in episode_containers:\n",
    "            # Get the info of each episode on the page\n",
    "            season = sn\n",
    "            episode_number = episodes.meta['content']\n",
    "            title = episodes.a['title']\n",
    "            airdate = episodes.find('div', class_='airdate').text.strip()\n",
    "            rating = episodes.find('span', class_='ipl-rating-star__rating').text\n",
    "            total_votes = episodes.find('span', class_='ipl-rating-star__total-votes').text\n",
    "            desc = episodes.find('div', class_='item_description').text.strip()\n",
    "            # Compiling the episode info\n",
    "            episode_data = [season, episode_number, title, airdate, rating, total_votes, desc]\n",
    "\n",
    "            # Append the episode info to the complete dataset\n",
    "            community_episodes.append(episode_data)"
   ]
  },
  {
   "cell_type": "code",
   "execution_count": 12,
   "metadata": {},
   "outputs": [
    {
     "output_type": "execute_result",
     "data": {
      "text/plain": "     season episode_number                                           title  \\\n0         1              1                                           Pilot   \n1         1              2                                     Spanish 101   \n2         1              3                            Introduction to Film   \n3         1              4                               Social Psychology   \n4         1              5                           Advanced Criminal Law   \n..      ...            ...                                             ...   \n105       6              9                                    Grifting 101   \n106       6             10                   Basic RV Repair and Palmistry   \n107       6             11                                Modern Espionage   \n108       6             12                             Wedding Videography   \n109       6             13  Emotional Consequences of Broadcast Television   \n\n          airdate rating total_votes  \\\n0    17 Sep. 2009    7.8     (3,182)   \n1    24 Sep. 2009    7.9     (2,755)   \n2     1 Oct. 2009    8.3     (2,695)   \n3     8 Oct. 2009    8.2     (2,472)   \n4    15 Oct. 2009    7.9     (2,374)   \n..            ...    ...         ...   \n105    5 May 2015    7.8     (1,364)   \n106   12 May 2015    7.6     (1,360)   \n107   19 May 2015    9.0     (1,833)   \n108   26 May 2015    8.6     (1,564)   \n109   2 Jun. 2015    9.6     (3,492)   \n\n                                                  desc  \n0    An ex-lawyer is forced to return to community ...  \n1    Jeff takes steps to ensure that Brita will be ...  \n2    Brita comes between Abed and his father when s...  \n3    Jeff and Shirley bond by making fun of Britta'...  \n4    Señor Chang is on the hunt for a cheater and t...  \n..                                                 ...  \n105  When a clever clever con man, Professor DeSalv...  \n106  While on a road trip to get rid of a Greendale...  \n107  When a secret game of paintball occurs on camp...  \n108  A marriage proposal in Jeff's law class expose...  \n109  As their sixth year at Greendale draws to a cl...  \n\n[110 rows x 7 columns]",
      "text/html": "<div>\n<style scoped>\n    .dataframe tbody tr th:only-of-type {\n        vertical-align: middle;\n    }\n\n    .dataframe tbody tr th {\n        vertical-align: top;\n    }\n\n    .dataframe thead th {\n        text-align: right;\n    }\n</style>\n<table border=\"1\" class=\"dataframe\">\n  <thead>\n    <tr style=\"text-align: right;\">\n      <th></th>\n      <th>season</th>\n      <th>episode_number</th>\n      <th>title</th>\n      <th>airdate</th>\n      <th>rating</th>\n      <th>total_votes</th>\n      <th>desc</th>\n    </tr>\n  </thead>\n  <tbody>\n    <tr>\n      <th>0</th>\n      <td>1</td>\n      <td>1</td>\n      <td>Pilot</td>\n      <td>17 Sep. 2009</td>\n      <td>7.8</td>\n      <td>(3,182)</td>\n      <td>An ex-lawyer is forced to return to community ...</td>\n    </tr>\n    <tr>\n      <th>1</th>\n      <td>1</td>\n      <td>2</td>\n      <td>Spanish 101</td>\n      <td>24 Sep. 2009</td>\n      <td>7.9</td>\n      <td>(2,755)</td>\n      <td>Jeff takes steps to ensure that Brita will be ...</td>\n    </tr>\n    <tr>\n      <th>2</th>\n      <td>1</td>\n      <td>3</td>\n      <td>Introduction to Film</td>\n      <td>1 Oct. 2009</td>\n      <td>8.3</td>\n      <td>(2,695)</td>\n      <td>Brita comes between Abed and his father when s...</td>\n    </tr>\n    <tr>\n      <th>3</th>\n      <td>1</td>\n      <td>4</td>\n      <td>Social Psychology</td>\n      <td>8 Oct. 2009</td>\n      <td>8.2</td>\n      <td>(2,472)</td>\n      <td>Jeff and Shirley bond by making fun of Britta'...</td>\n    </tr>\n    <tr>\n      <th>4</th>\n      <td>1</td>\n      <td>5</td>\n      <td>Advanced Criminal Law</td>\n      <td>15 Oct. 2009</td>\n      <td>7.9</td>\n      <td>(2,374)</td>\n      <td>Señor Chang is on the hunt for a cheater and t...</td>\n    </tr>\n    <tr>\n      <th>...</th>\n      <td>...</td>\n      <td>...</td>\n      <td>...</td>\n      <td>...</td>\n      <td>...</td>\n      <td>...</td>\n      <td>...</td>\n    </tr>\n    <tr>\n      <th>105</th>\n      <td>6</td>\n      <td>9</td>\n      <td>Grifting 101</td>\n      <td>5 May 2015</td>\n      <td>7.8</td>\n      <td>(1,364)</td>\n      <td>When a clever clever con man, Professor DeSalv...</td>\n    </tr>\n    <tr>\n      <th>106</th>\n      <td>6</td>\n      <td>10</td>\n      <td>Basic RV Repair and Palmistry</td>\n      <td>12 May 2015</td>\n      <td>7.6</td>\n      <td>(1,360)</td>\n      <td>While on a road trip to get rid of a Greendale...</td>\n    </tr>\n    <tr>\n      <th>107</th>\n      <td>6</td>\n      <td>11</td>\n      <td>Modern Espionage</td>\n      <td>19 May 2015</td>\n      <td>9.0</td>\n      <td>(1,833)</td>\n      <td>When a secret game of paintball occurs on camp...</td>\n    </tr>\n    <tr>\n      <th>108</th>\n      <td>6</td>\n      <td>12</td>\n      <td>Wedding Videography</td>\n      <td>26 May 2015</td>\n      <td>8.6</td>\n      <td>(1,564)</td>\n      <td>A marriage proposal in Jeff's law class expose...</td>\n    </tr>\n    <tr>\n      <th>109</th>\n      <td>6</td>\n      <td>13</td>\n      <td>Emotional Consequences of Broadcast Television</td>\n      <td>2 Jun. 2015</td>\n      <td>9.6</td>\n      <td>(3,492)</td>\n      <td>As their sixth year at Greendale draws to a cl...</td>\n    </tr>\n  </tbody>\n</table>\n<p>110 rows × 7 columns</p>\n</div>"
     },
     "metadata": {},
     "execution_count": 12
    }
   ],
   "source": [
    "community_episodes = pd.DataFrame(community_episodes, columns = ['season', 'episode_number', 'title', 'airdate', 'rating', 'total_votes', 'desc'])\n",
    "\n",
    "community_episodes"
   ]
  },
  {
   "cell_type": "markdown",
   "metadata": {},
   "source": [
    "## Data Cleaning\n",
    "### Converting the total votes count to numeric\n",
    "\n",
    "First, we create a function that replaces the ',' , '(', and ')' strings from `total_votes` so that we can make it numeric."
   ]
  },
  {
   "cell_type": "code",
   "execution_count": 13,
   "metadata": {},
   "outputs": [],
   "source": [
    "def remove_str(votes):\n",
    "    for r in ((',',''), ('(',''),(')','')):\n",
    "        votes = votes.replace(*r)\n",
    "        \n",
    "    return votes"
   ]
  },
  {
   "cell_type": "markdown",
   "metadata": {},
   "source": [
    "Now we apply the function, taking out the strings, then change the type to int using `.astype()`"
   ]
  },
  {
   "cell_type": "code",
   "execution_count": 14,
   "metadata": {},
   "outputs": [
    {
     "output_type": "execute_result",
     "data": {
      "text/plain": "   season episode_number                  title       airdate rating  \\\n0       1              1                  Pilot  17 Sep. 2009    7.8   \n1       1              2            Spanish 101  24 Sep. 2009    7.9   \n2       1              3   Introduction to Film   1 Oct. 2009    8.3   \n3       1              4      Social Psychology   8 Oct. 2009    8.2   \n4       1              5  Advanced Criminal Law  15 Oct. 2009    7.9   \n\n   total_votes                                               desc  \n0         3182  An ex-lawyer is forced to return to community ...  \n1         2755  Jeff takes steps to ensure that Brita will be ...  \n2         2695  Brita comes between Abed and his father when s...  \n3         2472  Jeff and Shirley bond by making fun of Britta'...  \n4         2374  Señor Chang is on the hunt for a cheater and t...  ",
      "text/html": "<div>\n<style scoped>\n    .dataframe tbody tr th:only-of-type {\n        vertical-align: middle;\n    }\n\n    .dataframe tbody tr th {\n        vertical-align: top;\n    }\n\n    .dataframe thead th {\n        text-align: right;\n    }\n</style>\n<table border=\"1\" class=\"dataframe\">\n  <thead>\n    <tr style=\"text-align: right;\">\n      <th></th>\n      <th>season</th>\n      <th>episode_number</th>\n      <th>title</th>\n      <th>airdate</th>\n      <th>rating</th>\n      <th>total_votes</th>\n      <th>desc</th>\n    </tr>\n  </thead>\n  <tbody>\n    <tr>\n      <th>0</th>\n      <td>1</td>\n      <td>1</td>\n      <td>Pilot</td>\n      <td>17 Sep. 2009</td>\n      <td>7.8</td>\n      <td>3182</td>\n      <td>An ex-lawyer is forced to return to community ...</td>\n    </tr>\n    <tr>\n      <th>1</th>\n      <td>1</td>\n      <td>2</td>\n      <td>Spanish 101</td>\n      <td>24 Sep. 2009</td>\n      <td>7.9</td>\n      <td>2755</td>\n      <td>Jeff takes steps to ensure that Brita will be ...</td>\n    </tr>\n    <tr>\n      <th>2</th>\n      <td>1</td>\n      <td>3</td>\n      <td>Introduction to Film</td>\n      <td>1 Oct. 2009</td>\n      <td>8.3</td>\n      <td>2695</td>\n      <td>Brita comes between Abed and his father when s...</td>\n    </tr>\n    <tr>\n      <th>3</th>\n      <td>1</td>\n      <td>4</td>\n      <td>Social Psychology</td>\n      <td>8 Oct. 2009</td>\n      <td>8.2</td>\n      <td>2472</td>\n      <td>Jeff and Shirley bond by making fun of Britta'...</td>\n    </tr>\n    <tr>\n      <th>4</th>\n      <td>1</td>\n      <td>5</td>\n      <td>Advanced Criminal Law</td>\n      <td>15 Oct. 2009</td>\n      <td>7.9</td>\n      <td>2374</td>\n      <td>Señor Chang is on the hunt for a cheater and t...</td>\n    </tr>\n  </tbody>\n</table>\n</div>"
     },
     "metadata": {},
     "execution_count": 14
    }
   ],
   "source": [
    "community_episodes['total_votes'] = community_episodes.total_votes.apply(remove_str).astype(int)\n",
    "\n",
    "community_episodes.head()"
   ]
  },
  {
   "cell_type": "markdown",
   "metadata": {},
   "source": [
    "### Making `rating` numeric instead of a string"
   ]
  },
  {
   "cell_type": "code",
   "execution_count": 15,
   "metadata": {},
   "outputs": [],
   "source": [
    "community_episodes['rating'] = community_episodes.rating.astype(float)"
   ]
  },
  {
   "cell_type": "markdown",
   "metadata": {},
   "source": [
    "### Converting the `airdate` from string to datetime"
   ]
  },
  {
   "cell_type": "code",
   "execution_count": 16,
   "metadata": {},
   "outputs": [
    {
     "output_type": "stream",
     "name": "stdout",
     "text": "<class 'pandas.core.frame.DataFrame'>\nRangeIndex: 110 entries, 0 to 109\nData columns (total 7 columns):\n #   Column          Non-Null Count  Dtype         \n---  ------          --------------  -----         \n 0   season          110 non-null    int64         \n 1   episode_number  110 non-null    object        \n 2   title           110 non-null    object        \n 3   airdate         110 non-null    datetime64[ns]\n 4   rating          110 non-null    float64       \n 5   total_votes     110 non-null    int32         \n 6   desc            110 non-null    object        \ndtypes: datetime64[ns](1), float64(1), int32(1), int64(1), object(3)\nmemory usage: 5.7+ KB\n"
    }
   ],
   "source": [
    "community_episodes['airdate'] = pd.to_datetime(community_episodes.airdate)\n",
    "\n",
    "community_episodes.info()"
   ]
  },
  {
   "cell_type": "markdown",
   "metadata": {},
   "source": [
    "Now the data is ready for analysis and visualization!"
   ]
  },
  {
   "cell_type": "code",
   "execution_count": 17,
   "metadata": {},
   "outputs": [],
   "source": [
    "community_episodes.to_csv('Community_Episodes_IMDb_Ratings.csv',index=False)"
   ]
  }
 ],
 "metadata": {
  "language_info": {
   "codemirror_mode": {
    "name": "ipython",
    "version": 3
   },
   "file_extension": ".py",
   "mimetype": "text/x-python",
   "name": "python",
   "nbconvert_exporter": "python",
   "pygments_lexer": "ipython3",
   "version": "3.7.7-final"
  },
  "orig_nbformat": 2,
  "kernelspec": {
   "name": "python3",
   "display_name": "Python 3"
  }
 },
 "nbformat": 4,
 "nbformat_minor": 2
}