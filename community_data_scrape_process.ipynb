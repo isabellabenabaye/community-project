{
 "cells": [
  {
   "cell_type": "markdown",
   "metadata": {},
   "source": [
    "# Step-by-step: Scraping Community (2009)'s IMDb Ratings\n",
    "\n",
    "**Reference:**\n",
    "https://www.dataquest.io/blog/web-scraping-beautifulsoup/\n",
    "\n",
    "First, I break down all of the steps."
   ]
  },
  {
   "cell_type": "markdown",
   "metadata": {},
   "source": [
    "### Taking a look at the url"
   ]
  },
  {
   "cell_type": "code",
   "execution_count": 1,
   "metadata": {},
   "outputs": [
    {
     "output_type": "stream",
     "name": "stdout",
     "text": "\n \n\n\n\n\n\n\n\n\n\n\n<!DOCTYPE html>\n<html\n    xmlns:og=\"http://ogp.me/ns#\"\n    xmlns:fb=\"http://www.facebook.com/2008/fbml\">\n    <head>\n         \n        <meta charset=\"utf-8\">\n        <meta http-equiv=\"X-UA-Compatible\" content=\"IE=edge\">\n\n    <meta name=\"apple-itunes-app\" content=\"app-id=342792525, app-argument=imdb:///title/tt1439629?src=mdot\">\n\n\n\n        <script type=\"text/javascript\">var IMDbTimer={starttime: new Date().getTime(),pt:'java'};</script>\n\n<script>\n    if (typeof uet == 'function') {\n  \n"
    }
   ],
   "source": [
    "from requests import get\n",
    "url = 'https://www.imdb.com/title/tt1439629/episodes?season=1'\n",
    "# Request the server the content of the web page by using get(), and store the server’s response in the variable response\n",
    "response = get(url)\n",
    "print(response.text[:500])"
   ]
  },
  {
   "cell_type": "markdown",
   "metadata": {},
   "source": [
    "### Use BeautifulSoup to parse the HTML content\n",
    "Parse response.text by creating a BeautifulSoup object, and assign this object to html_soup. The 'html.parser' argument indicates that we want to do the parsing using Python’s built-in HTML parser."
   ]
  },
  {
   "cell_type": "code",
   "execution_count": 2,
   "metadata": {},
   "outputs": [
    {
     "output_type": "execute_result",
     "data": {
      "text/plain": "bs4.BeautifulSoup"
     },
     "metadata": {},
     "execution_count": 2
    }
   ],
   "source": [
    "from bs4 import BeautifulSoup\n",
    "\n",
    "html_soup = BeautifulSoup(response.text, 'html.parser')\n",
    "type(html_soup)"
   ]
  },
  {
   "cell_type": "markdown",
   "metadata": {},
   "source": [
    "All of the containers we want are in `<div class=\"info\" ...> </div>` containers. Each episode has one, so we will take those."
   ]
  },
  {
   "cell_type": "code",
   "execution_count": 67,
   "metadata": {},
   "outputs": [],
   "source": [
    "episode_containers = html_soup.find_all('div', class_='info')"
   ]
  },
  {
   "cell_type": "markdown",
   "metadata": {},
   "source": [
    "`find_all()` returned a `ResultSet` object which is a list containing all the episode (25 for season 1) divs we are interested in."
   ]
  },
  {
   "cell_type": "markdown",
   "metadata": {},
   "source": [
    "Now, the variables we will be getting are:\n",
    "- Episode title\n",
    "- Episode number\n",
    "- Airdate\n",
    "- IMDb rating \n",
    "- Total votes\n",
    "- Episode description"
   ]
  },
  {
   "cell_type": "code",
   "execution_count": null,
   "metadata": {},
   "outputs": [],
   "source": [
    "Read [this part](https://www.dataquest.io/blog/web-scraping-beautifulsoup/#thenameofthemovie) of the dataquest article to understand how calling the <a> tags works."
   ]
  },
  {
   "cell_type": "markdown",
   "metadata": {},
   "source": [
    "### Episode title"
   ]
  },
  {
   "cell_type": "code",
   "execution_count": 4,
   "metadata": {},
   "outputs": [
    {
     "output_type": "execute_result",
     "data": {
      "text/plain": "'Pilot'"
     },
     "metadata": {},
     "execution_count": 4
    }
   ],
   "source": [
    "episode_containers[0].a['title']"
   ]
  },
  {
   "cell_type": "markdown",
   "metadata": {},
   "source": [
    "### Episode number"
   ]
  },
  {
   "cell_type": "code",
   "execution_count": 5,
   "metadata": {},
   "outputs": [
    {
     "output_type": "execute_result",
     "data": {
      "text/plain": "'1'"
     },
     "metadata": {},
     "execution_count": 5
    }
   ],
   "source": [
    "episode_containers[0].meta['content']"
   ]
  },
  {
   "cell_type": "markdown",
   "metadata": {},
   "source": [
    "### Airdate"
   ]
  },
  {
   "cell_type": "code",
   "execution_count": 6,
   "metadata": {},
   "outputs": [
    {
     "output_type": "execute_result",
     "data": {
      "text/plain": "'17 Sep. 2009'"
     },
     "metadata": {},
     "execution_count": 6
    }
   ],
   "source": [
    "episode_containers[0].find('div', class_='airdate').text.strip()"
   ]
  },
  {
   "cell_type": "markdown",
   "metadata": {},
   "source": [
    "### IMDb rating & total votes"
   ]
  },
  {
   "cell_type": "code",
   "execution_count": 7,
   "metadata": {},
   "outputs": [
    {
     "output_type": "execute_result",
     "data": {
      "text/plain": "['7.8', '(3,178)']"
     },
     "metadata": {},
     "execution_count": 7
    }
   ],
   "source": [
    "episode_containers[0].find('div', class_='ipl-rating-star').text.split()"
   ]
  },
  {
   "cell_type": "markdown",
   "metadata": {},
   "source": [
    "### Episode description"
   ]
  },
  {
   "cell_type": "code",
   "execution_count": 8,
   "metadata": {},
   "outputs": [
    {
     "output_type": "execute_result",
     "data": {
      "text/plain": "'An ex-lawyer is forced to return to community college to get a degree. However, he tries to use the skills he learned as a lawyer to get the answers to all his tests and pick up on a sexy woman in his Spanish class.'"
     },
     "metadata": {},
     "execution_count": 8
    }
   ],
   "source": [
    "episode_containers[0].find('div', class_='item_description').text.strip()\n"
   ]
  },
  {
   "cell_type": "code",
   "execution_count": 9,
   "metadata": {},
   "outputs": [],
   "source": [
    "episode_titles = []\n",
    "episode_numbers = []\n",
    "airdates = []\n",
    "ratings_votes = []\n",
    "descriptions = []\n",
    "\n",
    "for episodes in episode_containers:\n",
    "    if episodes.find_all('div', class_='info') is not None:\n",
    "        title = episodes.a['title']\n",
    "        episode_titles.append(title)\n",
    "\n",
    "        number = episodes.meta['content']\n",
    "        episode_numbers.append(number)\n",
    "\n",
    "        airdate = episodes.find('div', class_='airdate').text.strip()\n",
    "        airdates.append(airdate)\n",
    "\n",
    "        rating_votes = episodes.find('div', class_='ipl-rating-star').text.split()\n",
    "        ratings_votes.append(rating_votes)\n",
    "\n",
    "        desc = episodes.find('div', class_='item_description').text.strip()\n",
    "        descriptions.append(desc)"
   ]
  },
  {
   "cell_type": "code",
   "execution_count": 10,
   "metadata": {},
   "outputs": [],
   "source": [
    "import pandas as pd "
   ]
  },
  {
   "cell_type": "code",
   "execution_count": 11,
   "metadata": {},
   "outputs": [
    {
     "output_type": "execute_result",
     "data": {
      "text/plain": "           episode_title episode_num       airdate    rating_votes  \\\n0                  Pilot           1  17 Sep. 2009  [7.8, (3,178)]   \n1            Spanish 101           2  24 Sep. 2009  [7.9, (2,752)]   \n2   Introduction to Film           3   1 Oct. 2009  [8.3, (2,692)]   \n3      Social Psychology           4   8 Oct. 2009  [8.2, (2,468)]   \n4  Advanced Criminal Law           5  15 Oct. 2009  [7.9, (2,368)]   \n\n                                         description  \n0  An ex-lawyer is forced to return to community ...  \n1  Jeff takes steps to ensure that Brita will be ...  \n2  Brita comes between Abed and his father when s...  \n3  Jeff and Shirley bond by making fun of Britta'...  \n4  Señor Chang is on the hunt for a cheater and t...  ",
      "text/html": "<div>\n<style scoped>\n    .dataframe tbody tr th:only-of-type {\n        vertical-align: middle;\n    }\n\n    .dataframe tbody tr th {\n        vertical-align: top;\n    }\n\n    .dataframe thead th {\n        text-align: right;\n    }\n</style>\n<table border=\"1\" class=\"dataframe\">\n  <thead>\n    <tr style=\"text-align: right;\">\n      <th></th>\n      <th>episode_title</th>\n      <th>episode_num</th>\n      <th>airdate</th>\n      <th>rating_votes</th>\n      <th>description</th>\n    </tr>\n  </thead>\n  <tbody>\n    <tr>\n      <th>0</th>\n      <td>Pilot</td>\n      <td>1</td>\n      <td>17 Sep. 2009</td>\n      <td>[7.8, (3,178)]</td>\n      <td>An ex-lawyer is forced to return to community ...</td>\n    </tr>\n    <tr>\n      <th>1</th>\n      <td>Spanish 101</td>\n      <td>2</td>\n      <td>24 Sep. 2009</td>\n      <td>[7.9, (2,752)]</td>\n      <td>Jeff takes steps to ensure that Brita will be ...</td>\n    </tr>\n    <tr>\n      <th>2</th>\n      <td>Introduction to Film</td>\n      <td>3</td>\n      <td>1 Oct. 2009</td>\n      <td>[8.3, (2,692)]</td>\n      <td>Brita comes between Abed and his father when s...</td>\n    </tr>\n    <tr>\n      <th>3</th>\n      <td>Social Psychology</td>\n      <td>4</td>\n      <td>8 Oct. 2009</td>\n      <td>[8.2, (2,468)]</td>\n      <td>Jeff and Shirley bond by making fun of Britta'...</td>\n    </tr>\n    <tr>\n      <th>4</th>\n      <td>Advanced Criminal Law</td>\n      <td>5</td>\n      <td>15 Oct. 2009</td>\n      <td>[7.9, (2,368)]</td>\n      <td>Señor Chang is on the hunt for a cheater and t...</td>\n    </tr>\n  </tbody>\n</table>\n</div>"
     },
     "metadata": {},
     "execution_count": 11
    }
   ],
   "source": [
    "test = pd.DataFrame({'episode_title':episode_titles,\n",
    "'episode_num':episode_numbers,\n",
    "'airdate':airdates,\n",
    "'rating_votes':ratings_votes,\n",
    "'description':descriptions})\n",
    "\n",
    "test.head()"
   ]
  },
  {
   "cell_type": "markdown",
   "metadata": {},
   "source": []
  },
  {
   "cell_type": "markdown",
   "metadata": {},
   "source": [
    "## Controlling the crawl-rate"
   ]
  },
  {
   "cell_type": "code",
   "execution_count": 13,
   "metadata": {},
   "outputs": [],
   "source": [
    "from time import sleep\n",
    "from random import randint"
   ]
  },
  {
   "cell_type": "markdown",
   "metadata": {},
   "source": [
    "## Monitoring the loop as it's still going\n",
    "\n",
    "Given that we’re scraping 72 pages, it would be nice if we could find a way to monitor the scraping process as it’s still going. This feature is definitely optional, but it can be very helpful in the testing and debugging process. Also, the greater the number of pages, the more helpful the monitoring becomes. If you are going to scrape hundreds or thousands of web pages in a single code run, I would say that this feature becomes a must.\n",
    "\n",
    "For our script, we’ll make use of this feature, and monitor the following parameters:\n",
    "\n",
    "- The **frequency (speed) of requests**, so we make sure our program is not overloading the server.\n",
    "- The **number of requests**, so we can halt the loop in case the number of expected requests is exceeded.\n",
    "- The **status code** of our requests, so we make sure the server is sending back the proper responses."
   ]
  },
  {
   "cell_type": "code",
   "execution_count": 14,
   "metadata": {},
   "outputs": [],
   "source": [
    "from time import time"
   ]
  },
  {
   "cell_type": "code",
   "execution_count": 15,
   "metadata": {},
   "outputs": [],
   "source": [
    "from IPython.core.display import clear_output"
   ]
  },
  {
   "cell_type": "code",
   "execution_count": 16,
   "metadata": {},
   "outputs": [
    {
     "output_type": "stream",
     "name": "stdout",
     "text": "Request: 6; Frequency: 0.49958881801791205 requests/s\n"
    }
   ],
   "source": [
    "start_time = time()\n",
    "\n",
    "requests = 0\n",
    "\n",
    "for _ in range(6):\n",
    "    \n",
    "    requests += 1\n",
    "    sleep(randint(1,3))\n",
    "    elapsed_time = time() - start_time\n",
    "    print('Request: {}; Frequency: {} requests/s'.format(requests,requests/elapsed_time))\n",
    "    clear_output(wait=True)"
   ]
  },
  {
   "cell_type": "code",
   "execution_count": 12,
   "metadata": {},
   "outputs": [],
   "source": []
  },
  {
   "cell_type": "markdown",
   "metadata": {},
   "source": [
    "# Final code\n",
    "\n",
    "Putting all of the steps together to get the final dataset that contains the episode data for every season in the series:"
   ]
  },
  {
   "cell_type": "code",
   "execution_count": 17,
   "metadata": {},
   "outputs": [
    {
     "output_type": "stream",
     "name": "stdout",
     "text": "Request:6; Frequency: 0.07929696231902113 requests/s\n"
    }
   ],
   "source": [
    "# Initializing the series' that the loop will \n",
    "episode_titles = []\n",
    "episode_numbers = []\n",
    "airdates = []\n",
    "ratings_votes = []\n",
    "descriptions = []\n",
    "season = []\n",
    "\n",
    "seasons = [str(i) for i in range(1,7)]\n",
    "\n",
    "# Preparing the monitoring of the loop\n",
    "start_time = time()\n",
    "requests = 0\n",
    "\n",
    "# For every season in the series\n",
    "for sn in seasons:\n",
    "    response = get('https://www.imdb.com/title/tt1439629/episodes?season=' + sn)\n",
    "\n",
    "    # Pause the loop\n",
    "    sleep(randint(8,15))\n",
    "\n",
    "    # Monitor the requests\n",
    "    requests += 1\n",
    "    elapsed_time = time() - start_time\n",
    "    print('Request:{}; Frequency: {} requests/s'.format(requests, requests/elapsed_time))\n",
    "    clear_output(wait = True)\n",
    "\n",
    "    # Throw a warning for non-200 status codes\n",
    "    if response.status_code != 200:\n",
    "        warn('Request: {}; Status code: {}'.format(requests, response.status_code))\n",
    "    \n",
    "    # Break the loop if the number of requests is greater than expected\n",
    "    if requests > 72:\n",
    "        warn('Number of requests was greater than expected.')\n",
    "        break\n",
    "\n",
    "    # Parse the content of the request with BeautifulSoup\n",
    "    page_html = BeautifulSoup(response.text, 'html.parser')\n",
    "\n",
    "    # Select all the 50 movie containers from a single page\n",
    "    episode_containers = page_html.find_all('div', class_ = 'info')\n",
    "\n",
    "    # For each episode in each season\n",
    "    for episodes in episode_containers:\n",
    "        #if episodes.find_all('div', class_='info') is not None:\n",
    "            season.append(sn)\n",
    "            title = episodes.a['title']\n",
    "            episode_titles.append(title)\n",
    "\n",
    "            number = episodes.meta['content']\n",
    "            episode_numbers.append(number)\n",
    "\n",
    "            airdate = episodes.find('div', class_='airdate').text.strip()\n",
    "            airdates.append(airdate)\n",
    "\n",
    "            rating_votes = episodes.find('div', class_='ipl-rating-star').text.split()\n",
    "            ratings_votes.append(rating_votes)\n",
    "\n",
    "            desc = episodes.find('div', class_='item_description').text.strip()\n",
    "            descriptions.append(desc)"
   ]
  },
  {
   "cell_type": "markdown",
   "metadata": {},
   "source": [
    "## Put all the series' together into a pandas DataFrame"
   ]
  },
  {
   "cell_type": "code",
   "execution_count": 57,
   "metadata": {},
   "outputs": [
    {
     "output_type": "execute_result",
     "data": {
      "text/plain": "           episode_title episode_num       airdate    rating_votes  \\\n0                  Pilot           1  17 Sep. 2009  [7.8, (3,178)]   \n1            Spanish 101           2  24 Sep. 2009  [7.9, (2,752)]   \n2   Introduction to Film           3   1 Oct. 2009  [8.3, (2,692)]   \n3      Social Psychology           4   8 Oct. 2009  [8.2, (2,468)]   \n4  Advanced Criminal Law           5  15 Oct. 2009  [7.9, (2,368)]   \n\n                                         description season  \n0  An ex-lawyer is forced to return to community ...      1  \n1  Jeff takes steps to ensure that Brita will be ...      1  \n2  Brita comes between Abed and his father when s...      1  \n3  Jeff and Shirley bond by making fun of Britta'...      1  \n4  Señor Chang is on the hunt for a cheater and t...      1  ",
      "text/html": "<div>\n<style scoped>\n    .dataframe tbody tr th:only-of-type {\n        vertical-align: middle;\n    }\n\n    .dataframe tbody tr th {\n        vertical-align: top;\n    }\n\n    .dataframe thead th {\n        text-align: right;\n    }\n</style>\n<table border=\"1\" class=\"dataframe\">\n  <thead>\n    <tr style=\"text-align: right;\">\n      <th></th>\n      <th>episode_title</th>\n      <th>episode_num</th>\n      <th>airdate</th>\n      <th>rating_votes</th>\n      <th>description</th>\n      <th>season</th>\n    </tr>\n  </thead>\n  <tbody>\n    <tr>\n      <th>0</th>\n      <td>Pilot</td>\n      <td>1</td>\n      <td>17 Sep. 2009</td>\n      <td>[7.8, (3,178)]</td>\n      <td>An ex-lawyer is forced to return to community ...</td>\n      <td>1</td>\n    </tr>\n    <tr>\n      <th>1</th>\n      <td>Spanish 101</td>\n      <td>2</td>\n      <td>24 Sep. 2009</td>\n      <td>[7.9, (2,752)]</td>\n      <td>Jeff takes steps to ensure that Brita will be ...</td>\n      <td>1</td>\n    </tr>\n    <tr>\n      <th>2</th>\n      <td>Introduction to Film</td>\n      <td>3</td>\n      <td>1 Oct. 2009</td>\n      <td>[8.3, (2,692)]</td>\n      <td>Brita comes between Abed and his father when s...</td>\n      <td>1</td>\n    </tr>\n    <tr>\n      <th>3</th>\n      <td>Social Psychology</td>\n      <td>4</td>\n      <td>8 Oct. 2009</td>\n      <td>[8.2, (2,468)]</td>\n      <td>Jeff and Shirley bond by making fun of Britta'...</td>\n      <td>1</td>\n    </tr>\n    <tr>\n      <th>4</th>\n      <td>Advanced Criminal Law</td>\n      <td>5</td>\n      <td>15 Oct. 2009</td>\n      <td>[7.9, (2,368)]</td>\n      <td>Señor Chang is on the hunt for a cheater and t...</td>\n      <td>1</td>\n    </tr>\n  </tbody>\n</table>\n</div>"
     },
     "metadata": {},
     "execution_count": 57
    }
   ],
   "source": [
    "community_episodes = pd.DataFrame({'episode_title':episode_titles,\n",
    "'episode_num':episode_numbers,\n",
    "'airdate':airdates,\n",
    "'rating_votes':ratings_votes,\n",
    "'description':descriptions,\n",
    "'season':season})\n",
    "\n",
    "community_episodes.head()"
   ]
  },
  {
   "cell_type": "markdown",
   "metadata": {},
   "source": [
    "# Data Cleaning\n",
    "\n",
    "### Giving the ratings and total votes their own columns"
   ]
  },
  {
   "cell_type": "code",
   "execution_count": 58,
   "metadata": {},
   "outputs": [],
   "source": [
    "community_episodes[['rating','total_votes']] = pd.DataFrame(community_episodes.rating_votes.tolist(),index=community_episodes.index)"
   ]
  },
  {
   "cell_type": "markdown",
   "metadata": {},
   "source": [
    "Dropping the `rating_votes` column now that we don't need it."
   ]
  },
  {
   "cell_type": "code",
   "execution_count": 59,
   "metadata": {},
   "outputs": [],
   "source": [
    "community_episodes.drop('rating_votes',axis=1,inplace=True)"
   ]
  },
  {
   "cell_type": "code",
   "execution_count": 60,
   "metadata": {},
   "outputs": [
    {
     "output_type": "execute_result",
     "data": {
      "text/plain": "           episode_title episode_num       airdate  \\\n0                  Pilot           1  17 Sep. 2009   \n1            Spanish 101           2  24 Sep. 2009   \n2   Introduction to Film           3   1 Oct. 2009   \n3      Social Psychology           4   8 Oct. 2009   \n4  Advanced Criminal Law           5  15 Oct. 2009   \n\n                                         description season rating total_votes  \n0  An ex-lawyer is forced to return to community ...      1    7.8     (3,178)  \n1  Jeff takes steps to ensure that Brita will be ...      1    7.9     (2,752)  \n2  Brita comes between Abed and his father when s...      1    8.3     (2,692)  \n3  Jeff and Shirley bond by making fun of Britta'...      1    8.2     (2,468)  \n4  Señor Chang is on the hunt for a cheater and t...      1    7.9     (2,368)  ",
      "text/html": "<div>\n<style scoped>\n    .dataframe tbody tr th:only-of-type {\n        vertical-align: middle;\n    }\n\n    .dataframe tbody tr th {\n        vertical-align: top;\n    }\n\n    .dataframe thead th {\n        text-align: right;\n    }\n</style>\n<table border=\"1\" class=\"dataframe\">\n  <thead>\n    <tr style=\"text-align: right;\">\n      <th></th>\n      <th>episode_title</th>\n      <th>episode_num</th>\n      <th>airdate</th>\n      <th>description</th>\n      <th>season</th>\n      <th>rating</th>\n      <th>total_votes</th>\n    </tr>\n  </thead>\n  <tbody>\n    <tr>\n      <th>0</th>\n      <td>Pilot</td>\n      <td>1</td>\n      <td>17 Sep. 2009</td>\n      <td>An ex-lawyer is forced to return to community ...</td>\n      <td>1</td>\n      <td>7.8</td>\n      <td>(3,178)</td>\n    </tr>\n    <tr>\n      <th>1</th>\n      <td>Spanish 101</td>\n      <td>2</td>\n      <td>24 Sep. 2009</td>\n      <td>Jeff takes steps to ensure that Brita will be ...</td>\n      <td>1</td>\n      <td>7.9</td>\n      <td>(2,752)</td>\n    </tr>\n    <tr>\n      <th>2</th>\n      <td>Introduction to Film</td>\n      <td>3</td>\n      <td>1 Oct. 2009</td>\n      <td>Brita comes between Abed and his father when s...</td>\n      <td>1</td>\n      <td>8.3</td>\n      <td>(2,692)</td>\n    </tr>\n    <tr>\n      <th>3</th>\n      <td>Social Psychology</td>\n      <td>4</td>\n      <td>8 Oct. 2009</td>\n      <td>Jeff and Shirley bond by making fun of Britta'...</td>\n      <td>1</td>\n      <td>8.2</td>\n      <td>(2,468)</td>\n    </tr>\n    <tr>\n      <th>4</th>\n      <td>Advanced Criminal Law</td>\n      <td>5</td>\n      <td>15 Oct. 2009</td>\n      <td>Señor Chang is on the hunt for a cheater and t...</td>\n      <td>1</td>\n      <td>7.9</td>\n      <td>(2,368)</td>\n    </tr>\n  </tbody>\n</table>\n</div>"
     },
     "metadata": {},
     "execution_count": 60
    }
   ],
   "source": [
    "community_episodes.head()"
   ]
  },
  {
   "cell_type": "markdown",
   "metadata": {},
   "source": [
    "## Fixing the data types\n",
    "\n",
    "### Converting the total votes count to numeric\n",
    "\n",
    "First, we create a function that replaces the ',' , '(', and ')' strings from `total_votes` so that we can make it numeric."
   ]
  },
  {
   "cell_type": "code",
   "execution_count": 61,
   "metadata": {},
   "outputs": [],
   "source": [
    "def remove_str(votes):\n",
    "    for r in ((',',''), ('(',''),(')','')):\n",
    "        votes = votes.replace(*r)\n",
    "        \n",
    "    return votes"
   ]
  },
  {
   "cell_type": "markdown",
   "metadata": {},
   "source": [
    "Now we apply the function, taking out the strings, then change the type to int using `.astype()`"
   ]
  },
  {
   "cell_type": "code",
   "execution_count": 62,
   "metadata": {},
   "outputs": [],
   "source": [
    "community_episodes['total_votes'] = community_episodes.total_votes.apply(remove_str).astype(int)\n",
    "community_episodes.head()"
   ]
  },
  {
   "cell_type": "code",
   "execution_count": 64,
   "metadata": {},
   "outputs": [
    {
     "output_type": "stream",
     "name": "stdout",
     "text": "<class 'pandas.core.frame.DataFrame'>\nRangeIndex: 110 entries, 0 to 109\nData columns (total 7 columns):\n #   Column         Non-Null Count  Dtype \n---  ------         --------------  ----- \n 0   episode_title  110 non-null    object\n 1   episode_num    110 non-null    object\n 2   airdate        110 non-null    object\n 3   description    110 non-null    object\n 4   season         110 non-null    object\n 5   rating         110 non-null    object\n 6   total_votes    110 non-null    int32 \ndtypes: int32(1), object(6)\nmemory usage: 5.7+ KB\n"
    }
   ],
   "source": [
    "community_episodes.info()"
   ]
  },
  {
   "cell_type": "markdown",
   "metadata": {},
   "source": [
    "### Making `rating` numeric instead of a string"
   ]
  },
  {
   "cell_type": "code",
   "execution_count": 26,
   "metadata": {},
   "outputs": [],
   "source": [
    "community_episodes['rating'] = community_episodes.rating.astype(float)"
   ]
  },
  {
   "cell_type": "markdown",
   "metadata": {},
   "source": [
    "### Converting the `airdate` from string to datetime"
   ]
  },
  {
   "cell_type": "code",
   "execution_count": 44,
   "metadata": {},
   "outputs": [],
   "source": [
    "community_episodes['airdate'] = pd.to_datetime(community_episodes.airdate)"
   ]
  },
  {
   "cell_type": "code",
   "execution_count": 45,
   "metadata": {},
   "outputs": [
    {
     "output_type": "execute_result",
     "data": {
      "text/plain": "           episode_title episode_num    airdate  \\\n0                  Pilot           1 2009-09-17   \n1            Spanish 101           2 2009-09-24   \n2   Introduction to Film           3 2009-10-01   \n3      Social Psychology           4 2009-10-08   \n4  Advanced Criminal Law           5 2009-10-15   \n\n                                         description season  rating  \\\n0  An ex-lawyer is forced to return to community ...      1     7.8   \n1  Jeff takes steps to ensure that Brita will be ...      1     7.9   \n2  Brita comes between Abed and his father when s...      1     8.3   \n3  Jeff and Shirley bond by making fun of Britta'...      1     8.2   \n4  Señor Chang is on the hunt for a cheater and t...      1     7.9   \n\n   total_votes  \n0       3178.0  \n1       2752.0  \n2       2692.0  \n3       2468.0  \n4       2368.0  ",
      "text/html": "<div>\n<style scoped>\n    .dataframe tbody tr th:only-of-type {\n        vertical-align: middle;\n    }\n\n    .dataframe tbody tr th {\n        vertical-align: top;\n    }\n\n    .dataframe thead th {\n        text-align: right;\n    }\n</style>\n<table border=\"1\" class=\"dataframe\">\n  <thead>\n    <tr style=\"text-align: right;\">\n      <th></th>\n      <th>episode_title</th>\n      <th>episode_num</th>\n      <th>airdate</th>\n      <th>description</th>\n      <th>season</th>\n      <th>rating</th>\n      <th>total_votes</th>\n    </tr>\n  </thead>\n  <tbody>\n    <tr>\n      <th>0</th>\n      <td>Pilot</td>\n      <td>1</td>\n      <td>2009-09-17</td>\n      <td>An ex-lawyer is forced to return to community ...</td>\n      <td>1</td>\n      <td>7.8</td>\n      <td>3178.0</td>\n    </tr>\n    <tr>\n      <th>1</th>\n      <td>Spanish 101</td>\n      <td>2</td>\n      <td>2009-09-24</td>\n      <td>Jeff takes steps to ensure that Brita will be ...</td>\n      <td>1</td>\n      <td>7.9</td>\n      <td>2752.0</td>\n    </tr>\n    <tr>\n      <th>2</th>\n      <td>Introduction to Film</td>\n      <td>3</td>\n      <td>2009-10-01</td>\n      <td>Brita comes between Abed and his father when s...</td>\n      <td>1</td>\n      <td>8.3</td>\n      <td>2692.0</td>\n    </tr>\n    <tr>\n      <th>3</th>\n      <td>Social Psychology</td>\n      <td>4</td>\n      <td>2009-10-08</td>\n      <td>Jeff and Shirley bond by making fun of Britta'...</td>\n      <td>1</td>\n      <td>8.2</td>\n      <td>2468.0</td>\n    </tr>\n    <tr>\n      <th>4</th>\n      <td>Advanced Criminal Law</td>\n      <td>5</td>\n      <td>2009-10-15</td>\n      <td>Señor Chang is on the hunt for a cheater and t...</td>\n      <td>1</td>\n      <td>7.9</td>\n      <td>2368.0</td>\n    </tr>\n  </tbody>\n</table>\n</div>"
     },
     "metadata": {},
     "execution_count": 45
    }
   ],
   "source": [
    "community_episodes.head()"
   ]
  },
  {
   "cell_type": "code",
   "execution_count": 46,
   "metadata": {},
   "outputs": [
    {
     "output_type": "stream",
     "name": "stdout",
     "text": "<class 'pandas.core.frame.DataFrame'>\nRangeIndex: 110 entries, 0 to 109\nData columns (total 7 columns):\n #   Column         Non-Null Count  Dtype         \n---  ------         --------------  -----         \n 0   episode_title  110 non-null    object        \n 1   episode_num    110 non-null    object        \n 2   airdate        110 non-null    datetime64[ns]\n 3   description    110 non-null    object        \n 4   season         110 non-null    object        \n 5   rating         110 non-null    float64       \n 6   total_votes    110 non-null    float64       \ndtypes: datetime64[ns](1), float64(2), object(4)\nmemory usage: 6.1+ KB\n"
    }
   ],
   "source": [
    "community_episodes.info()"
   ]
  },
  {
   "cell_type": "markdown",
   "metadata": {},
   "source": [
    "Now the data is ready for analysis and visualization!"
   ]
  }
 ],
 "metadata": {
  "language_info": {
   "codemirror_mode": {
    "name": "ipython",
    "version": 3
   },
   "file_extension": ".py",
   "mimetype": "text/x-python",
   "name": "python",
   "nbconvert_exporter": "python",
   "pygments_lexer": "ipython3",
   "version": "3.7.7-final"
  },
  "orig_nbformat": 2,
  "kernelspec": {
   "name": "python3",
   "display_name": "Python 3"
  }
 },
 "nbformat": 4,
 "nbformat_minor": 2
}